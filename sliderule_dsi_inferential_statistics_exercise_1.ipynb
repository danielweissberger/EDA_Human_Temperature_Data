{
 "cells": [
  {
   "cell_type": "markdown",
   "metadata": {},
   "source": [
    "# What is the True Normal Human Body Temperature? \n",
    "\n",
    "#### Background\n",
    "\n",
    "The mean normal body temperature was held to be 37$^{\\circ}$C or 98.6$^{\\circ}$F for more than 120 years since it was first conceptualized and reported by Carl Wunderlich in a famous 1868 book. But, is this value statistically correct?"
   ]
  },
  {
   "cell_type": "markdown",
   "metadata": {},
   "source": [
    "<h3>Exercises</h3>\n",
    "\n",
    "<p>In this exercise, you will analyze a dataset of human body temperatures and employ the concepts of hypothesis testing, confidence intervals, and statistical significance.</p>\n",
    "\n",
    "<p>Answer the following questions <b>in this notebook below and submit to your Github account</b>.</p> \n",
    "\n",
    "<ol>\n",
    "<li>  Is the distribution of body temperatures normal? \n",
    "    <ul>\n",
    "    <li> Although this is not a requirement for the Central Limit Theorem to hold (read the introduction on Wikipedia's page about the CLT carefully: https://en.wikipedia.org/wiki/Central_limit_theorem), it gives us some peace of mind that the population may also be normally distributed if we assume that this sample is representative of the population.\n",
    "    <li> Think about the way you're going to check for the normality of the distribution. Graphical methods are usually used first, but there are also other ways: https://en.wikipedia.org/wiki/Normality_test\n",
    "    </ul>\n",
    "<li>  Is the sample size large? Are the observations independent?\n",
    "    <ul>\n",
    "    <li> Remember that this is a condition for the Central Limit Theorem, and hence the statistical tests we are using, to apply.\n",
    "    </ul>\n",
    "<li>  Is the true population mean really 98.6 degrees F?\n",
    "    <ul>\n",
    "    <li> First, try a bootstrap hypothesis test.\n",
    "    <li> Now, let's try frequentist statistical testing. Would you use a one-sample or two-sample test? Why?\n",
    "    <li> In this situation, is it appropriate to use the $t$ or $z$ statistic? \n",
    "    <li> Now try using the other test. How is the result be different? Why?\n",
    "    </ul>\n",
    "<li>  Draw a small sample of size 10 from the data and repeat both frequentist tests. \n",
    "    <ul>\n",
    "    <li> Which one is the correct one to use? \n",
    "    <li> What do you notice? What does this tell you about the difference in application of the $t$ and $z$ statistic?\n",
    "    </ul>\n",
    "<li>  At what temperature should we consider someone's temperature to be \"abnormal\"?\n",
    "    <ul>\n",
    "    <li> As in the previous example, try calculating everything using the boostrap approach, as well as the frequentist approach.\n",
    "    <li> Start by computing the margin of error and confidence interval. When calculating the confidence interval, keep in mind that you should use the appropriate formula for one draw, and not N draws.\n",
    "    </ul>\n",
    "<li>  Is there a significant difference between males and females in normal temperature?\n",
    "    <ul>\n",
    "    <li> What testing approach did you use and why?\n",
    "    <li> Write a story with your conclusion in the context of the original problem.\n",
    "    </ul>\n",
    "</ol>\n",
    "\n",
    "You can include written notes in notebook cells using Markdown: \n",
    "   - In the control panel at the top, choose Cell > Cell Type > Markdown\n",
    "   - Markdown syntax: http://nestacms.com/docs/creating-content/markdown-cheat-sheet\n",
    "\n",
    "#### Resources\n",
    "\n",
    "+ Information and data sources: http://www.amstat.org/publications/jse/datasets/normtemp.txt, http://www.amstat.org/publications/jse/jse_data_archive.htm\n",
    "+ Markdown syntax: http://nestacms.com/docs/creating-content/markdown-cheat-sheet\n",
    "\n",
    "****"
   ]
  },
  {
   "cell_type": "code",
   "execution_count": 113,
   "metadata": {},
   "outputs": [],
   "source": [
    "import pandas as pd\n",
    "import seaborn as sns\n",
    "import matplotlib.pyplot as plt\n",
    "import numpy as np\n",
    "import scipy.stats as stats\n",
    "\n",
    "np.random.seed(42)\n",
    "sns.set()\n",
    "\n",
    "df = pd.read_csv('data/human_body_temperature.csv')"
   ]
  },
  {
   "cell_type": "code",
   "execution_count": 114,
   "metadata": {},
   "outputs": [
    {
     "data": {
      "text/html": [
       "<div>\n",
       "<style scoped>\n",
       "    .dataframe tbody tr th:only-of-type {\n",
       "        vertical-align: middle;\n",
       "    }\n",
       "\n",
       "    .dataframe tbody tr th {\n",
       "        vertical-align: top;\n",
       "    }\n",
       "\n",
       "    .dataframe thead th {\n",
       "        text-align: right;\n",
       "    }\n",
       "</style>\n",
       "<table border=\"1\" class=\"dataframe\">\n",
       "  <thead>\n",
       "    <tr style=\"text-align: right;\">\n",
       "      <th></th>\n",
       "      <th>temperature</th>\n",
       "      <th>gender</th>\n",
       "      <th>heart_rate</th>\n",
       "    </tr>\n",
       "  </thead>\n",
       "  <tbody>\n",
       "    <tr>\n",
       "      <th>0</th>\n",
       "      <td>99.3</td>\n",
       "      <td>F</td>\n",
       "      <td>68.0</td>\n",
       "    </tr>\n",
       "    <tr>\n",
       "      <th>1</th>\n",
       "      <td>98.4</td>\n",
       "      <td>F</td>\n",
       "      <td>81.0</td>\n",
       "    </tr>\n",
       "    <tr>\n",
       "      <th>2</th>\n",
       "      <td>97.8</td>\n",
       "      <td>M</td>\n",
       "      <td>73.0</td>\n",
       "    </tr>\n",
       "    <tr>\n",
       "      <th>3</th>\n",
       "      <td>99.2</td>\n",
       "      <td>F</td>\n",
       "      <td>66.0</td>\n",
       "    </tr>\n",
       "    <tr>\n",
       "      <th>4</th>\n",
       "      <td>98.0</td>\n",
       "      <td>F</td>\n",
       "      <td>73.0</td>\n",
       "    </tr>\n",
       "  </tbody>\n",
       "</table>\n",
       "</div>"
      ],
      "text/plain": [
       "   temperature gender  heart_rate\n",
       "0         99.3      F        68.0\n",
       "1         98.4      F        81.0\n",
       "2         97.8      M        73.0\n",
       "3         99.2      F        66.0\n",
       "4         98.0      F        73.0"
      ]
     },
     "execution_count": 114,
     "metadata": {},
     "output_type": "execute_result"
    }
   ],
   "source": [
    "df.head()"
   ]
  },
  {
   "cell_type": "markdown",
   "metadata": {},
   "source": [
    "# 1) Are the temperatures from the sample normally distributed?"
   ]
  },
  {
   "cell_type": "code",
   "execution_count": 115,
   "metadata": {},
   "outputs": [
    {
     "data": {
      "text/plain": [
       "Text(0,0.5,'counts')"
      ]
     },
     "execution_count": 115,
     "metadata": {},
     "output_type": "execute_result"
    },
    {
     "data": {
      "image/png": "[encoded data removed]",
      "text/plain": [
       "<Figure size 432x288 with 1 Axes>"
      ]
     },
     "metadata": {},
     "output_type": "display_data"
    }
   ],
   "source": [
    "#Calculate number of bins using square root rule\n",
    "n_bins = np.sqrt(len(df['temperature']))\n",
    "n_bins = int(n_bins)\n",
    "_ = plt.hist(df['temperature'], bins=n_bins, density=True)\n",
    "plt.xlabel('temperature')\n",
    "plt.ylabel('counts')"
   ]
  },
  {
   "cell_type": "code",
   "execution_count": 116,
   "metadata": {},
   "outputs": [
    {
     "data": {
      "image/png": "[encoded data removed]",
      "text/plain": [
       "<Figure size 432x288 with 1 Axes>"
      ]
     },
     "metadata": {},
     "output_type": "display_data"
    }
   ],
   "source": [
    "_ = sns.boxplot(x='gender', y='temperature', data=df)"
   ]
  },
  {
   "cell_type": "code",
   "execution_count": 309,
   "metadata": {},
   "outputs": [
    {
     "data": {
      "image/png": "[encoded data removed]",
      "text/plain": [
       "<Figure size 864x576 with 1 Axes>"
      ]
     },
     "metadata": {},
     "output_type": "display_data"
    }
   ],
   "source": [
    "def ecdf(data):\n",
    "    \"\"\"Compute ECDF for a one-dimensional array of measurements.\"\"\"\n",
    "    # Number of data points: n\n",
    "    n = len(data)\n",
    "\n",
    "    # x-data for the ECDF: x\n",
    "    x = np.sort(data)\n",
    "\n",
    "    # y-data for the ECDF: y\n",
    "    y = np.arange(1, n+1) / n\n",
    "\n",
    "    return x, y\n",
    "\n",
    "\n",
    "def bootstrap_replicate_1d(data, func):\n",
    "    return func(np.random.choice(data, size=len(data)))\n",
    "\n",
    "\n",
    "def draw_bs_reps(data, func, size=1):\n",
    "    \"\"\"Draw bootstrap replicates.\"\"\"\n",
    "\n",
    "    # Initialize array of replicates: bs_replicates\n",
    "    bs_replicates = np.empty(size)\n",
    "\n",
    "    # Generate replicates\n",
    "    for i in range(size):\n",
    "        bs_replicates[i] = bootstrap_replicate_1d(data, func)\n",
    "\n",
    "    return bs_replicates\n",
    "\n",
    "\n",
    "\n",
    "x_ecdf, y_ecdf = ecdf(df['temperature'])\n",
    "\n",
    "_ = plt.plot(x_ecdf, y_ecdf, marker='.', linestyle='none')\n",
    "plt.xlabel('temperature')\n",
    "plt.ylabel('ECDF')\n",
    "\n",
    "percentiles = np.array([2.5, 25, 50, 75, 97.5])\n",
    "ptiles_temp = np.percentile(df['temperature'], percentiles)\n",
    "\n",
    "\n",
    "_= plt.plot(ptiles_temp, percentiles/100, marker='D', color='red', linestyle='none')"
   ]
  },
  {
   "cell_type": "code",
   "execution_count": 223,
   "metadata": {},
   "outputs": [
    {
     "data": {
      "image/png": "[encoded data removed]",
      "text/plain": [
       "<Figure size 1080x576 with 1 Axes>"
      ]
     },
     "metadata": {},
     "output_type": "display_data"
    }
   ],
   "source": [
    "temp_mean = df['temperature'].mean()\n",
    "temp_std = df['temperature'].std()\n",
    "\n",
    "temp_norm_samples = np.random.normal(temp_mean, temp_std, 10000)\n",
    "\n",
    "x_norm_ecdf, y_norm_ecdf = ecdf(temp_norm_samples)\n",
    "\n",
    "plt.figure(figsize=(12, 8))\n",
    "plt.plot(x_ecdf, y_ecdf, marker='.', linestyle='none')\n",
    "plt.plot(x_norm_ecdf, y_norm_ecdf)\n",
    "\n",
    "plt.xlabel('temperature')\n",
    "_=plt.ylabel('ECDF')"
   ]
  },
  {
   "cell_type": "markdown",
   "metadata": {},
   "source": [
    "Seems like this distribution is fairly normal based on a simulation of a normal distribution with the same mean and standard deviation as found in this dataset."
   ]
  },
  {
   "cell_type": "code",
   "execution_count": 119,
   "metadata": {},
   "outputs": [
    {
     "data": {
      "text/plain": [
       "130"
      ]
     },
     "execution_count": 119,
     "metadata": {},
     "output_type": "execute_result"
    }
   ],
   "source": [
    "len(df)"
   ]
  },
  {
   "cell_type": "markdown",
   "metadata": {},
   "source": [
    "# 2) Is the sample size large? Are the observations independent?"
   ]
  },
  {
   "cell_type": "markdown",
   "metadata": {},
   "source": [
    "By the Central Limit Theorem, we can say that this sample size is large since n=130 >= 30. We can assume independence since n = 130 << 10% of population and we know that likely these were sampled independently."
   ]
  },
  {
   "cell_type": "markdown",
   "metadata": {},
   "source": [
    "# 3) Is the population mean really 98.6?"
   ]
  },
  {
   "cell_type": "code",
   "execution_count": 120,
   "metadata": {},
   "outputs": [
    {
     "name": "stdout",
     "output_type": "stream",
     "text": [
      "p =  0\n"
     ]
    }
   ],
   "source": [
    "#Lets assume the means are the same for a bootstrap hypothesis test \n",
    "#First we translate the dataset by the difference in means and randomly select from this dataset \n",
    "translated_temperature = df['temperature'] + 98.6 - df['temperature'].mean()\n",
    "\n",
    "#create array of 10,000 representative mean values based on the translated data (mean of 98.6)\n",
    "\n",
    "bs_replicates = draw_bs_reps(translated_temperature, np.mean, 10000)\n",
    "\n",
    "p = np.sum(bs_replicates <= df['temperature'].mean())\n",
    "\n",
    "print('p = ', p)"
   ]
  },
  {
   "cell_type": "markdown",
   "metadata": {},
   "source": [
    "The bootstrap test tells us that based on this sample distribution of the mean temperature, it is very unlikely that the mean of the population is really 98.6 (given the sample mean of 98.24)"
   ]
  },
  {
   "cell_type": "markdown",
   "metadata": {},
   "source": [
    "For the frequentest test, since we only have one sample here, we use the one sample test."
   ]
  },
  {
   "cell_type": "markdown",
   "metadata": {},
   "source": [
    "Ho: The true population mean is 98.6 F\n",
    "\n",
    "Ha: The population mean is not 98.6 F\n",
    "\n",
    "Alpha: .05 or 5%"
   ]
  },
  {
   "cell_type": "code",
   "execution_count": 479,
   "metadata": {},
   "outputs": [
    {
     "name": "stdout",
     "output_type": "stream",
     "text": [
      "P-Value (from z-test):  4.3523151658713056e-08\n"
     ]
    }
   ],
   "source": [
    "#Calculate z\n",
    "\n",
    "z = (df['temperature'].mean() - 98.6)/(np.std(df['temperature'])/np.sqrt(len(df['temperature'])))\n",
    "\n",
    "#Calculate p given z. Since we want all measurements as extreme as the mean, we perform a 2-tailed test (multiply by 2)\n",
    "p_val =stats.norm.cdf(z)*2\n",
    "\n",
    "print('P-Value (from z-test): ',p_val)"
   ]
  },
  {
   "cell_type": "markdown",
   "metadata": {},
   "source": [
    "The z value indicates essentially a p value of 0 so this means it quite unlikely that the means differ by so much. In other words, we can reject the null hypothesis that the means of the population and sample are the same."
   ]
  },
  {
   "cell_type": "markdown",
   "metadata": {},
   "source": [
    "Although it shouldnt be applicable here, lets try a t-test for this sample:"
   ]
  },
  {
   "cell_type": "code",
   "execution_count": 480,
   "metadata": {},
   "outputs": [
    {
     "name": "stdout",
     "output_type": "stream",
     "text": [
      "P-Value (from t-test):  2.4106320415561276e-07\n"
     ]
    }
   ],
   "source": [
    "pvalue = stats.ttest_1samp(df['temperature'], 98.6)\n",
    "\n",
    "print('P-Value (from t-test): ', pvalue[1])"
   ]
  },
  {
   "cell_type": "markdown",
   "metadata": {},
   "source": [
    "In this case only a z statistic is appropriate since the sample size is >= 30. However the t-value observed here is also very small so the null hypothesis can be rejected in either case. We see that the t-test gives a larger P-Value than the z-test. The reason for this is that the t-test is a more conservative test and assumes a more variant distribution (due to a smaller sample size)."
   ]
  },
  {
   "cell_type": "markdown",
   "metadata": {},
   "source": [
    "# 4) Test with a smaller sample size (n=10)"
   ]
  },
  {
   "cell_type": "markdown",
   "metadata": {},
   "source": [
    "Now let's try the tests again with a smaller sample size:"
   ]
  },
  {
   "cell_type": "code",
   "execution_count": 492,
   "metadata": {},
   "outputs": [
    {
     "name": "stdout",
     "output_type": "stream",
     "text": [
      "mean:  98.05\n"
     ]
    }
   ],
   "source": [
    "# Lets grab 10 data points from the temperature data\n",
    "np.random.seed(42)\n",
    "temp_small = np.random.choice(df['temperature'], size=10)\n",
    "mean_temp_small = np.mean(temp_small)\n",
    "\n",
    "print('mean: ', mean_temp_small)"
   ]
  },
  {
   "cell_type": "code",
   "execution_count": 493,
   "metadata": {},
   "outputs": [],
   "source": [
    "z = (np.mean(temp_small) - 98.6)/(np.std(temp_small)/np.sqrt(10))"
   ]
  },
  {
   "cell_type": "code",
   "execution_count": 494,
   "metadata": {},
   "outputs": [
    {
     "data": {
      "text/plain": [
       "-3.260780417008125"
      ]
     },
     "execution_count": 494,
     "metadata": {},
     "output_type": "execute_result"
    }
   ],
   "source": [
    "z"
   ]
  },
  {
   "cell_type": "code",
   "execution_count": 495,
   "metadata": {},
   "outputs": [
    {
     "name": "stdout",
     "output_type": "stream",
     "text": [
      "P-Value (from z-test):  0.001111060453904971\n",
      "P-Value (from t-test):  0.012857704604809363\n"
     ]
    }
   ],
   "source": [
    "p_val_from_z =stats.norm.cdf(z)*2\n",
    "p_val_from_t = stats.ttest_1samp(temp_small, 98.6)\n",
    "\n",
    "print('P-Value (from z-test): ', p_val_from_z)\n",
    "print('P-Value (from t-test): ', p_val_from_t[1])"
   ]
  },
  {
   "cell_type": "markdown",
   "metadata": {},
   "source": [
    "In this case the t-test produces a more conservative result. Most likely this is due to the fact that the sample size is now smaller and more appropriate for use in a t-test. The results from the z-test are really invalid since they are assuming a sample where n>= 30."
   ]
  },
  {
   "cell_type": "markdown",
   "metadata": {},
   "source": [
    "With such a small sample size, the result will be fairly arbitrary and not really representative of the sample mean. We may be inclined to accept the null hypothesis with the resultant t-value."
   ]
  },
  {
   "cell_type": "markdown",
   "metadata": {},
   "source": [
    "In fact I would claim that a sample of 130 people is relatively small given the population and may also be a biased sample."
   ]
  },
  {
   "cell_type": "markdown",
   "metadata": {},
   "source": [
    "# 5) Define a range for abnormality"
   ]
  },
  {
   "cell_type": "markdown",
   "metadata": {},
   "source": [
    "Let's set the range of abnormality from 5% to 95% of population. Note here that we dont care if people are abnormal with respect to the sample, we want to establish these numbers for the population. So we translate the sample to have the same mean as the population (98.6) and we calculate the margin of error (moe) based ont that."
   ]
  },
  {
   "cell_type": "code",
   "execution_count": 496,
   "metadata": {},
   "outputs": [],
   "source": [
    "bs_replicates = draw_bs_reps(translated_temperature, np.mean, 10000)"
   ]
  },
  {
   "cell_type": "code",
   "execution_count": 497,
   "metadata": {},
   "outputs": [],
   "source": [
    "std_pop = np.std(bs_replicates)*np.sqrt(len(translated_temperature))"
   ]
  },
  {
   "cell_type": "code",
   "execution_count": 498,
   "metadata": {},
   "outputs": [
    {
     "data": {
      "text/plain": [
       "1.959963984540054"
      ]
     },
     "execution_count": 498,
     "metadata": {},
     "output_type": "execute_result"
    }
   ],
   "source": [
    "z_critical = stats.norm.ppf(0.975)\n",
    "z_critical"
   ]
  },
  {
   "cell_type": "code",
   "execution_count": 499,
   "metadata": {},
   "outputs": [],
   "source": [
    "moe_z =z_critical*std_pop"
   ]
  },
  {
   "cell_type": "code",
   "execution_count": 500,
   "metadata": {},
   "outputs": [],
   "source": [
    "t_high_z  = 98.6 + moe_z\n",
    "t_low_z = 98.6 - moe_z"
   ]
  },
  {
   "cell_type": "code",
   "execution_count": 501,
   "metadata": {},
   "outputs": [
    {
     "name": "stdout",
     "output_type": "stream",
     "text": [
      "Temp range for z statistic:  97.16278706183233 F to  100.03721293816766 F\n"
     ]
    }
   ],
   "source": [
    "print(\"Temp range for z statistic: \", t_low_z, \"F to \", t_high_z, \"F\")"
   ]
  },
  {
   "cell_type": "markdown",
   "metadata": {},
   "source": [
    "Its not intuitive that the temp range would be so high (over 100.4 is a fever). But once again we have already indicated that we think the population mean is not representative"
   ]
  },
  {
   "cell_type": "markdown",
   "metadata": {},
   "source": [
    "Lets try this test again but this time draw samples assuming the population mean is the sample mean"
   ]
  },
  {
   "cell_type": "code",
   "execution_count": 502,
   "metadata": {},
   "outputs": [],
   "source": [
    "bs_replicates = draw_bs_reps(df['temperature'], np.mean, 10000)"
   ]
  },
  {
   "cell_type": "code",
   "execution_count": 503,
   "metadata": {},
   "outputs": [],
   "source": [
    "std_pop = np.std(bs_replicates)*np.sqrt(len(translated_temperature))"
   ]
  },
  {
   "cell_type": "code",
   "execution_count": 504,
   "metadata": {},
   "outputs": [],
   "source": [
    "moe_z = z_critical*std_pop"
   ]
  },
  {
   "cell_type": "code",
   "execution_count": 505,
   "metadata": {},
   "outputs": [],
   "source": [
    "t_high_z = mean_temp + moe_z\n",
    "t_low_z = mean_temp - moe_z"
   ]
  },
  {
   "cell_type": "code",
   "execution_count": 506,
   "metadata": {},
   "outputs": [
    {
     "name": "stdout",
     "output_type": "stream",
     "text": [
      "Temp range for z statistic:  96.81784715306489 F to  99.68061438539661 F\n"
     ]
    }
   ],
   "source": [
    "print(\"Temp range for z statistic: \", t_low_z, \"F to \", t_high_z, \"F\")"
   ]
  },
  {
   "cell_type": "markdown",
   "metadata": {},
   "source": [
    "This temperature range seems much more reasonable, more evidence that the population mean is likely not 98.6. "
   ]
  },
  {
   "cell_type": "markdown",
   "metadata": {},
   "source": [
    "Finally we can try to define an abnormal range with regard to the sample taken:"
   ]
  },
  {
   "cell_type": "code",
   "execution_count": 510,
   "metadata": {},
   "outputs": [],
   "source": [
    "moe_z = z_critical*temp_std"
   ]
  },
  {
   "cell_type": "code",
   "execution_count": 511,
   "metadata": {},
   "outputs": [],
   "source": [
    "t_high_z = mean_temp + moe_z\n",
    "t_low_z = mean_temp - moe_z"
   ]
  },
  {
   "cell_type": "code",
   "execution_count": 512,
   "metadata": {},
   "outputs": [
    {
     "name": "stdout",
     "output_type": "stream",
     "text": [
      "Temp range for z statistic:  96.81221818540308 F to  99.68624335305842 F\n"
     ]
    }
   ],
   "source": [
    "print(\"Temp range for z statistic: \", t_low_z, \"F to \", t_high_z, \"F\")"
   ]
  },
  {
   "cell_type": "markdown",
   "metadata": {},
   "source": [
    "Note that this is very similar to the previous case."
   ]
  },
  {
   "cell_type": "markdown",
   "metadata": {},
   "source": [
    "Results seem fairly consistent although they were calculated in three different ways. Given rejection of our null hypothesis, i believe the last two calculations will be the most accurate which both put the range at 96.8 to 99.7"
   ]
  },
  {
   "cell_type": "code",
   "execution_count": 514,
   "metadata": {},
   "outputs": [
    {
     "data": {
      "image/png": "[encoded data removed]",
      "text/plain": [
       "<Figure size 864x432 with 1 Axes>"
      ]
     },
     "metadata": {},
     "output_type": "display_data"
    }
   ],
   "source": [
    "plt.figure(figsize=(12, 6))\n",
    "sns.distplot(df['temperature'], hist=False)\n",
    "plt.plot([96.8,96.8], [0.0,.8], label='Normal Low (96.8F)')\n",
    "plt.plot([99.6,99.6], [0.0,.8], label='Normal High (99.6F)')\n",
    "plt.ylabel('probability')\n",
    "_ = plt.legend()"
   ]
  },
  {
   "cell_type": "markdown",
   "metadata": {},
   "source": [
    "# 6) Male Vs. Female Body Temperature. Is there a difference?"
   ]
  },
  {
   "cell_type": "code",
   "execution_count": 419,
   "metadata": {},
   "outputs": [],
   "source": [
    "male_temp = df['temperature'][df['gender'] == 'M']\n",
    "female_temp = df['temperature'][df['gender'] == 'F']"
   ]
  },
  {
   "cell_type": "code",
   "execution_count": 515,
   "metadata": {},
   "outputs": [
    {
     "data": {
      "image/png": "[encoded data removed]",
      "text/plain": [
       "<Figure size 1080x432 with 1 Axes>"
      ]
     },
     "metadata": {},
     "output_type": "display_data"
    }
   ],
   "source": [
    "#Calculate some statistics on each sample:\n",
    "mean_female = np.mean(female_temp)\n",
    "std_female = np.std(female_temp)\n",
    "\n",
    "mean_male = np.mean(male_temp)\n",
    "std_male = np.std(male_temp)\n",
    "\n",
    "empirical_diff_of_means = mean_female - mean_male\n",
    "\n",
    "plt.figure(figsize=(15, 6))\n",
    "\n",
    "plt.plot([mean_male, mean_male],[0.0,.6], label=\"Mean Male Temp (98.10)\")\n",
    "plt.plot([mean_female, mean_female],[0.0,.6], label=\"Mean Female Temp (98.39)\")\n",
    "sns.distplot(male_temp, hist=False, label=\"Male temperature\")\n",
    "_ = sns.distplot(female_temp, hist=False, label=\"Female temperature\")\n"
   ]
  },
  {
   "cell_type": "markdown",
   "metadata": {},
   "source": [
    "Lets try a frequentist style hypothesis test:"
   ]
  },
  {
   "cell_type": "markdown",
   "metadata": {},
   "source": [
    "Ho = There is no difference between mean body temp of male and female. \n",
    "\n",
    "Ha = The means are not equal (two tailed test)\n",
    "\n",
    "Alpha = Lets use an alpha value of .05 or 5%"
   ]
  },
  {
   "cell_type": "code",
   "execution_count": 516,
   "metadata": {},
   "outputs": [],
   "source": [
    "#Calculate the new standard devation for difference in distributions\n",
    "sigma = np.sqrt((std_male**2)/len(male_temp) + (std_female**2)/len(female_temp))"
   ]
  },
  {
   "cell_type": "code",
   "execution_count": 517,
   "metadata": {},
   "outputs": [
    {
     "name": "stdout",
     "output_type": "stream",
     "text": [
      "z-value:  2.3032202891943516\n"
     ]
    }
   ],
   "source": [
    "z = (empirical_diff_of_means - 0)/(sigma)\n",
    "print('z-value: ', z)"
   ]
  },
  {
   "cell_type": "code",
   "execution_count": 518,
   "metadata": {},
   "outputs": [],
   "source": [
    "p_val_from_z = (1 - stats.norm.cdf(z))*2"
   ]
  },
  {
   "cell_type": "code",
   "execution_count": 519,
   "metadata": {},
   "outputs": [
    {
     "name": "stdout",
     "output_type": "stream",
     "text": [
      "p-value:  0.021266451830110222\n"
     ]
    }
   ],
   "source": [
    "p_val_from_z\n",
    "print('p-value: ', p_val_from_z)"
   ]
  },
  {
   "cell_type": "markdown",
   "metadata": {},
   "source": [
    "This means that the probability of getting the difference in means observed in these samples given the null hypothesis is true is less than our significance level (a 2.13% chance) of 5%. Therefore based on this test, we reject the null hypothesis that the means are equal."
   ]
  },
  {
   "cell_type": "markdown",
   "metadata": {},
   "source": [
    "How about their distributions? Lets perform a bootstrap test to analyze the distributions of men and women"
   ]
  },
  {
   "cell_type": "code",
   "execution_count": 520,
   "metadata": {},
   "outputs": [
    {
     "name": "stdout",
     "output_type": "stream",
     "text": [
      "p-value = 0.0146\n"
     ]
    }
   ],
   "source": [
    "bs_replicates = np.empty(10000)\n",
    "\n",
    "for i in range(10000):\n",
    "    \n",
    "    bs_sample = np.random.choice(df['temperature'], size=len(df['temperature']))\n",
    "    \n",
    "    bs_replicates[i] = np.mean(bs_sample[:len(male_temp)])  - np.mean(bs_sample[len(male_temp):])\n",
    "    \n",
    "p = np.sum(bs_replicates >= empirical_diff_of_means) / len(bs_replicates)\n",
    "\n",
    "print('p-value =', p)"
   ]
  },
  {
   "cell_type": "markdown",
   "metadata": {},
   "source": [
    "With a p-value of about 1.4 %, we can safely say that its highly unlikely that the male and female temperatures are equally distributed based on the given sample."
   ]
  },
  {
   "cell_type": "markdown",
   "metadata": {},
   "source": [
    "Finally lets try a two sample bootstrap test to determine if the means are the means are the same"
   ]
  },
  {
   "cell_type": "code",
   "execution_count": 521,
   "metadata": {},
   "outputs": [],
   "source": [
    "male_temp_shifted = male_temp - mean_male +  mean_temp"
   ]
  },
  {
   "cell_type": "code",
   "execution_count": 522,
   "metadata": {},
   "outputs": [],
   "source": [
    "female_temp_shifted = female_temp - mean_female + mean_temp"
   ]
  },
  {
   "cell_type": "code",
   "execution_count": 523,
   "metadata": {},
   "outputs": [],
   "source": [
    "bs_replicates_male = draw_bs_reps(male_temp_shifted, np.mean, 10000)\n",
    "bs_replicates_female = draw_bs_reps(female_temp_shifted, np.mean, 10000)\n",
    "bs_replicate_diff_of_means = bs_replicates_male - bs_replicates_female"
   ]
  },
  {
   "cell_type": "code",
   "execution_count": 524,
   "metadata": {},
   "outputs": [],
   "source": [
    "p = np.sum(bs_replicate_diff_of_means >= empirical_diff_of_means)/len(bs_replicate_diff_of_means)"
   ]
  },
  {
   "cell_type": "code",
   "execution_count": 525,
   "metadata": {},
   "outputs": [
    {
     "name": "stdout",
     "output_type": "stream",
     "text": [
      "p-value = 0.0104\n"
     ]
    }
   ],
   "source": [
    "print('p-value =', p)"
   ]
  },
  {
   "cell_type": "markdown",
   "metadata": {},
   "source": [
    "From this test we can also state that its highly unlikely that the mean temp of men and women is the same. We can likely reject the null hypothesis with these results"
   ]
  },
  {
   "cell_type": "code",
   "execution_count": null,
   "metadata": {},
   "outputs": [],
   "source": []
  }
 ],
 "metadata": {
  "kernelspec": {
   "display_name": "Python 3",
   "language": "python",
   "name": "python3"
  },
  "language_info": {
   "codemirror_mode": {
    "name": "ipython",
    "version": 3
   },
   "file_extension": ".py",
   "mimetype": "text/x-python",
   "name": "python",
   "nbconvert_exporter": "python",
   "pygments_lexer": "ipython3",
   "version": "3.6.0"
  }
 },
 "nbformat": 4,
 "nbformat_minor": 1
}
